{
 "cells": [
  {
   "cell_type": "markdown",
   "metadata": {},
   "source": [
    "# Problem 1:\n",
    "## Rock, Paper and Scissors."
   ]
  },
  {
   "cell_type": "code",
   "execution_count": null,
   "metadata": {
    "collapsed": false
   },
   "outputs": [],
   "source": [
    "import sys\n",
    "# Defines the three different possible valid inputs.\n",
    "hand = ['ROCK', 'PAPER', 'SCISSORS']\n",
    "\n",
    "\n",
    "def RoPaSc(playerOneInput, playerTwoInput) -> None:\n",
    "    '''\n",
    "        Figure outs which player wins based on the two input parameters given.\n",
    "    '''\n",
    "    # Tie\n",
    "    if (playerTwoInput == playerOneInput):\n",
    "        choise = input('Its a tie! Play again? (y/n) \\n  >')\n",
    "        playAgain(choise)\n",
    "    elif(playerOneInput == 'ROCK'):\n",
    "        if(playerTwoInput == 'SCISSOR'):\n",
    "            playerWin(1)\n",
    "        else:\n",
    "            playerWin(2)\n",
    "    elif(playerOneInput == 'PAPER'):\n",
    "        if(playerTwoInput == 'ROCK'):\n",
    "            playerWin(1)\n",
    "        else:\n",
    "            playerWin(2)\n",
    "    elif(playerOneInput == 'SCISSORS'):\n",
    "        if(playerTwoInput == 'ROCK'):\n",
    "            playerWin(2)\n",
    "        else:\n",
    "            playerWin(1)\n",
    "        \n",
    "def playerWin(player):\n",
    "    '''\n",
    "        Prints which player that have won and calls the playAgain() function.\n",
    "    '''\n",
    "    print('Player ' + str(player) + ' wins!')\n",
    "    playAgain()\n",
    "\n",
    "def getPlayerInput(player):\n",
    "    '''\n",
    "        Asks the user for input and returns given input.\n",
    "    '''\n",
    "    playerInput = input(player + ': Rock, papers or scissors?').upper()\n",
    "   \n",
    "    # Checks for valid inputs\n",
    "    if (not checkInput(playerInput)):\n",
    "        print('* ' + playerInput + ' *' + ' is not a valid input... Try again!')\n",
    "        # The function calls itself if input is invalid\n",
    "        getPlayerInput(player)\n",
    "    return playerInput\n",
    "    \n",
    "def checkInput(playerInput):\n",
    "    '''\n",
    "        Returns false if playerInput is invalid.\n",
    "    '''\n",
    "    return playerInput in hand\n",
    "\n",
    "def playAgain(choise = None):\n",
    "    '''\n",
    "        If input parameter is None due to a draw the user(s) is asked if they want to play again.\n",
    "        If input is given the function will figure out if the user(s) want to play again.\n",
    "    '''\n",
    "    # If either of the player wins chosise is None\n",
    "    if choise is None:\n",
    "        choise = input('Play again? (y/n) \\n  >')\n",
    "    # Yes, play again\n",
    "    if choise == 'y':\n",
    "        playerOneInput = getPlayerInput('Player 1')\n",
    "        playerTwoInput = getPlayerInput('Player 2')\n",
    "        RoPaSc(playerOneInput, playerTwoInput)\n",
    "    # No, exit script\n",
    "    elif choise == 'n':\n",
    "        quit()\n",
    "    else:\n",
    "        playAgain(input('Invalid input!'))\n",
    "    \n",
    "# Main\n",
    "if __name__ == \"__main__\":\n",
    "    # Takes input from players\n",
    "    playerOneInput = getPlayerInput('Player 1')\n",
    "    playerTwoInput = getPlayerInput('Player 2')\n",
    "    # Starts the rock, paper and scissors game\n",
    "    RoPaSc(playerOneInput, playerTwoInput)"
   ]
  },
  {
   "cell_type": "markdown",
   "metadata": {},
   "source": [
    "# Problem 2:\n",
    "## The Ceasar Cipher"
   ]
  },
  {
   "cell_type": "code",
   "execution_count": 11,
   "metadata": {
    "collapsed": false
   },
   "outputs": [
    {
     "name": "stdout",
     "output_type": "stream",
     "text": [
      "why is ai attracting so much attention? xyz\n",
      "ai is the new electricity. it will transform every industry and create huge economic value. \n",
      "technology like supervised learning is automation on steroids. \n",
      "it is very good at automating tasks and will have an impact on every sector from healthcare to manufacturing, logistics and retail.\n"
     ]
    }
   ],
   "source": [
    "import string\n",
    "\n",
    "birthday = '16-04-1991'\n",
    "file = 'plain.txt'\n",
    "\n",
    "def encryptFile(k):\n",
    "    fileData = list(getFileData(file).lower())\n",
    "    alphabetList = list(string.ascii_lowercase)\n",
    "    index = 0\n",
    "\n",
    "    for character in fileData:\n",
    "        if (character in alphabetList):\n",
    "            alphabetIndex = alphabetList.index(character.lower())\n",
    "            if ((alphabetIndex + k) >= len(alphabetList)):\n",
    "                deltaIndex = -len(alphabetList[alphabetIndex:-1]) + k-1\n",
    "                fileData[index] = alphabetList[deltaIndex] \n",
    "            else:\n",
    "                fileData[index] = alphabetList[alphabetIndex + k]\n",
    "        index += 1\n",
    "    encryptedString = ''\n",
    "    for letter in fileData:\n",
    "        encryptedString += letter\n",
    "    print(encryptedString)\n",
    "    \n",
    "\n",
    "def getFileData(filePath):\n",
    "    with open('plain.txt') as file:\n",
    "        return file.read()\n",
    "\n",
    "\n",
    "\n",
    "if __name__ == \"__main__\":\n",
    "    encryptFile(int(birthday[-1]))"
   ]
  },
  {
   "cell_type": "code",
   "execution_count": null,
   "metadata": {
    "collapsed": true
   },
   "outputs": [],
   "source": []
  }
 ],
 "metadata": {
  "anaconda-cloud": {},
  "kernelspec": {
   "display_name": "Python [default]",
   "language": "python",
   "name": "python3"
  },
  "language_info": {
   "codemirror_mode": {
    "name": "ipython",
    "version": 3
   },
   "file_extension": ".py",
   "mimetype": "text/x-python",
   "name": "python",
   "nbconvert_exporter": "python",
   "pygments_lexer": "ipython3",
   "version": "3.5.2"
  }
 },
 "nbformat": 4,
 "nbformat_minor": 1
}
